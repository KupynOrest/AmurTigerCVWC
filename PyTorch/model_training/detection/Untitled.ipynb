{
 "cells": [
  {
   "cell_type": "code",
   "execution_count": 6,
   "metadata": {},
   "outputs": [],
   "source": [
    "import json\n",
    "import os\n",
    "import glob"
   ]
  },
  {
   "cell_type": "code",
   "execution_count": 74,
   "metadata": {},
   "outputs": [
    {
     "data": {
      "text/plain": [
       "dict_keys(['categories', 'images', 'annotations'])"
      ]
     },
     "execution_count": 74,
     "metadata": {},
     "output_type": "execute_result"
    }
   ],
   "source": [
    "with open('/home/cortwave/projects/tigerc/tiger_detection/tigers_data/val.json', 'r') as f:\n",
    "    data = json.load(f)\n",
    "\n",
    "data.keys()"
   ]
  },
  {
   "cell_type": "code",
   "execution_count": 75,
   "metadata": {},
   "outputs": [
    {
     "data": {
      "text/plain": [
       "1651"
      ]
     },
     "execution_count": 75,
     "metadata": {},
     "output_type": "execute_result"
    }
   ],
   "source": [
    "test_images = sorted(glob.glob('/home/cortwave/projects/tigerc/tiger_detection/tigers_data/test/*.jpg'))\n",
    "images = [os.path.basename(i) for i in test_images]\n",
    "len(test_images)"
   ]
  },
  {
   "cell_type": "code",
   "execution_count": 76,
   "metadata": {},
   "outputs": [
    {
     "data": {
      "text/plain": [
       "1651"
      ]
     },
     "execution_count": 76,
     "metadata": {},
     "output_type": "execute_result"
    }
   ],
   "source": [
    "data['images'] = [{'id': int(name[:4]), 'file_name': name} for idx, name in enumerate(images)]\n",
    "\n",
    "annotation = data['annotations'][0]\n",
    "ids = [i['id'] for i in data['images']]\n",
    "\n",
    "anns = []\n",
    "for i in data['images']:\n",
    "    ann = annotation.copy()\n",
    "    ann['image_id'] = i['id']\n",
    "    anns.append(ann)\n",
    "data['annotations'] = anns\n",
    "len(data['annotations'])"
   ]
  },
  {
   "cell_type": "code",
   "execution_count": 77,
   "metadata": {},
   "outputs": [],
   "source": [
    "with open('/home/cortwave/projects/tigerc/tiger_detection/tigers_data/test_set.json', 'w') as f:\n",
    "    json.dump(data, f)"
   ]
  },
  {
   "cell_type": "code",
   "execution_count": 79,
   "metadata": {},
   "outputs": [],
   "source": [
    "with open('/home/cortwave/projects/tigerc/tiger_detection/tigers_data/test_set.json', 'r') as f:\n",
    "    data = json.load(f)\n",
    "    \n",
    "with open('/home/cortwave/projects/tigerc/tiger_detection/tigers_code/PyTorch/model_training/detection/eval/tigerss.txt', 'r') as f:\n",
    "    anns = json.load(f)\n",
    "    \n",
    "for ann in anns:\n",
    "    ann['bbox']  = [round(i) for i in ann['bbox']]\n",
    "\n",
    "data['annotations'] = anns\n",
    "\n",
    "with open('/home/cortwave/projects/tigerc/tiger_detection/tigers_code/PyTorch/model_training/detection/eval/sub.txt', 'w') as f:\n",
    "    json.dump(anns, f)"
   ]
  },
  {
   "cell_type": "code",
   "execution_count": 20,
   "metadata": {},
   "outputs": [],
   "source": [
    "from pycocotools.coco import COCO"
   ]
  },
  {
   "cell_type": "code",
   "execution_count": 25,
   "metadata": {},
   "outputs": [
    {
     "name": "stdout",
     "output_type": "stream",
     "text": [
      "loading annotations into memory...\n",
      "Done (t=0.01s)\n",
      "creating index...\n",
      "index created!\n",
      "Loading and preparing results...\n",
      "DONE (t=0.00s)\n",
      "creating index...\n",
      "index created!\n"
     ]
    },
    {
     "data": {
      "text/plain": [
       "<pycocotools.coco.COCO at 0x7fc5a7533cc0>"
      ]
     },
     "execution_count": 25,
     "metadata": {},
     "output_type": "execute_result"
    }
   ],
   "source": [
    "cocoGt = COCO('/home/cortwave/projects/tigerc/tiger_detection/tigers_data/test_set.json')\n",
    "cocoGt.loadRes('/home/cortwave/projects/tigerc/tiger_detection/tigers_code/PyTorch/model_training/detection/eval/tigerss.txt')"
   ]
  },
  {
   "cell_type": "code",
   "execution_count": 65,
   "metadata": {},
   "outputs": [],
   "source": [
    "with open('/home/cortwave/projects/tigerc/tiger_detection/tigers_data/test_set.json', 'r') as f:\n",
    "    data = json.load(f)"
   ]
  },
  {
   "cell_type": "code",
   "execution_count": 67,
   "metadata": {},
   "outputs": [
    {
     "data": {
      "text/plain": [
       "1651"
      ]
     },
     "execution_count": 67,
     "metadata": {},
     "output_type": "execute_result"
    }
   ],
   "source": [
    "len(data['images'])"
   ]
  },
  {
   "cell_type": "code",
   "execution_count": 69,
   "metadata": {},
   "outputs": [
    {
     "data": {
      "text/plain": [
       "166"
      ]
     },
     "execution_count": 69,
     "metadata": {},
     "output_type": "execute_result"
    }
   ],
   "source": [
    "with open('/home/cortwave/projects/tigerc/tiger_detection/tigers_code/PyTorch/model_training/detection/eval/tigerss.txt', 'r') as f:\n",
    "    data = json.load(f)\n",
    "\n",
    "len(data)"
   ]
  },
  {
   "cell_type": "code",
   "execution_count": null,
   "metadata": {},
   "outputs": [],
   "source": []
  }
 ],
 "metadata": {
  "kernelspec": {
   "display_name": "Python 3",
   "language": "python",
   "name": "python3"
  },
  "language_info": {
   "codemirror_mode": {
    "name": "ipython",
    "version": 3
   },
   "file_extension": ".py",
   "mimetype": "text/x-python",
   "name": "python",
   "nbconvert_exporter": "python",
   "pygments_lexer": "ipython3",
   "version": "3.7.1"
  }
 },
 "nbformat": 4,
 "nbformat_minor": 2
}
